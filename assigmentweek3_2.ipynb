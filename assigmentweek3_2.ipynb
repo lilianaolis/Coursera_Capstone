{
    "nbformat_minor": 1, 
    "cells": [
        {
            "source": "# Peer-graded Assignment: Segmenting and Clustering Neighborhoods in Toronto", 
            "cell_type": "markdown", 
            "metadata": {
                "collapsed": true
            }
        }, 
        {
            "source": "Part 2 of the assigment", 
            "cell_type": "markdown", 
            "metadata": {}
        }, 
        {
            "source": "#### Importing Libraries", 
            "cell_type": "markdown", 
            "metadata": {}
        }, 
        {
            "execution_count": 1, 
            "cell_type": "code", 
            "metadata": {}, 
            "outputs": [], 
            "source": "import numpy as np #Numpy Library\nimport pandas as pd #Panda Library"
        }, 
        {
            "execution_count": 2, 
            "cell_type": "code", 
            "metadata": {}, 
            "outputs": [], 
            "source": "from bs4 import BeautifulSoup #BeautifulSoup to read the html"
        }, 
        {
            "execution_count": 3, 
            "cell_type": "code", 
            "metadata": {}, 
            "outputs": [], 
            "source": "import requests #to request the page"
        }, 
        {
            "execution_count": 4, 
            "cell_type": "code", 
            "metadata": {}, 
            "outputs": [
                {
                    "output_type": "stream", 
                    "name": "stdout", 
                    "text": "Fetching package metadata .............\nSolving package specifications: .\n\n# All requested packages already installed.\n# packages in environment at /opt/conda/envs/DSX-Python35:\n#\nfolium                    0.5.0                      py_0    conda-forge\n"
                }
            ], 
            "source": "!conda install -c conda-forge folium=0.5.0 --yes\nimport folium # plotting library"
        }, 
        {
            "execution_count": 5, 
            "cell_type": "code", 
            "metadata": {}, 
            "outputs": [
                {
                    "output_type": "stream", 
                    "name": "stdout", 
                    "text": "Fetching package metadata .............\nSolving package specifications: .\n\n# All requested packages already installed.\n# packages in environment at /opt/conda/envs/DSX-Python35:\n#\ngeocoder                  1.38.1                     py_0    conda-forge\n"
                }
            ], 
            "source": "!conda install -c conda-forge geocoder\nimport geocoder"
        }, 
        {
            "source": "#### PART 1 of the assigment", 
            "cell_type": "markdown", 
            "metadata": {}
        }, 
        {
            "execution_count": 6, 
            "cell_type": "code", 
            "metadata": {}, 
            "outputs": [], 
            "source": "source=requests.get('https://en.wikipedia.org/wiki/List_of_postal_codes_of_Canada:_M').text"
        }, 
        {
            "execution_count": 7, 
            "cell_type": "code", 
            "metadata": {}, 
            "outputs": [], 
            "source": "soup = BeautifulSoup(source,'lxml')"
        }, 
        {
            "execution_count": 8, 
            "cell_type": "code", 
            "metadata": {}, 
            "outputs": [], 
            "source": "tabla = soup.find('table', attrs={'class':'wikitable sortable'})\n#print(tabla.prettify())  #prettify to display in a more friendly way"
        }, 
        {
            "execution_count": 9, 
            "cell_type": "code", 
            "metadata": {}, 
            "outputs": [], 
            "source": "filas = tabla.find_all('tr')\nl=[]\nfor tr in filas:\n    td = tr.find_all('td')\n    fila = [tr.text for tr in td]\n    l.append(fila)\nlista = pd.DataFrame(l, columns=['PostCode','Borough','Neigborhood'])"
        }, 
        {
            "execution_count": 10, 
            "cell_type": "code", 
            "metadata": {}, 
            "outputs": [], 
            "source": "lista = lista.replace('\\n','', regex=True)"
        }, 
        {
            "execution_count": 11, 
            "cell_type": "code", 
            "metadata": {}, 
            "outputs": [], 
            "source": "lista.drop(lista.index[0],inplace=True)"
        }, 
        {
            "execution_count": 12, 
            "cell_type": "code", 
            "metadata": {}, 
            "outputs": [], 
            "source": "lista = lista[lista.Borough != 'Not assigned']"
        }, 
        {
            "execution_count": 13, 
            "cell_type": "code", 
            "metadata": {}, 
            "outputs": [], 
            "source": "lista['Neigborhood']= np.where(lista['Neigborhood']=='Not assigned',lista['Borough'],lista['Neigborhood'])"
        }, 
        {
            "execution_count": 14, 
            "cell_type": "code", 
            "metadata": {}, 
            "outputs": [], 
            "source": "lista.sort_values('PostCode',inplace=True)"
        }, 
        {
            "execution_count": 15, 
            "cell_type": "code", 
            "metadata": {}, 
            "outputs": [], 
            "source": "concatenar = {\n    'Neigborhood': lambda x: ', '.join(x)\n}"
        }, 
        {
            "execution_count": 16, 
            "cell_type": "code", 
            "metadata": {}, 
            "outputs": [], 
            "source": "lista = lista.groupby(['PostCode','Borough'], as_index=False, sort=False).agg(concatenar)"
        }, 
        {
            "source": "## Part 2 of the assigment", 
            "cell_type": "markdown", 
            "metadata": {}
        }, 
        {
            "source": "Reading the csv file with the geospatial data for the postal codes that the geocoder returns error", 
            "cell_type": "markdown", 
            "metadata": {}
        }, 
        {
            "execution_count": 17, 
            "cell_type": "code", 
            "metadata": {}, 
            "outputs": [
                {
                    "output_type": "stream", 
                    "name": "stdout", 
                    "text": "Data loaded\n"
                }
            ], 
            "source": "gd=pd.read_csv('https://cocl.us/Geospatial_data',index_col=0)\nprint('Data loaded')"
        }, 
        {
            "execution_count": 18, 
            "cell_type": "code", 
            "metadata": {}, 
            "outputs": [
                {
                    "execution_count": 18, 
                    "metadata": {}, 
                    "data": {
                        "text/html": "<div>\n<style scoped>\n    .dataframe tbody tr th:only-of-type {\n        vertical-align: middle;\n    }\n\n    .dataframe tbody tr th {\n        vertical-align: top;\n    }\n\n    .dataframe thead th {\n        text-align: right;\n    }\n</style>\n<table border=\"1\" class=\"dataframe\">\n  <thead>\n    <tr style=\"text-align: right;\">\n      <th></th>\n      <th>Latitude</th>\n      <th>Longitude</th>\n    </tr>\n    <tr>\n      <th>Postal Code</th>\n      <th></th>\n      <th></th>\n    </tr>\n  </thead>\n  <tbody>\n    <tr>\n      <th>M1B</th>\n      <td>43.806686</td>\n      <td>-79.194353</td>\n    </tr>\n    <tr>\n      <th>M1C</th>\n      <td>43.784535</td>\n      <td>-79.160497</td>\n    </tr>\n    <tr>\n      <th>M1E</th>\n      <td>43.763573</td>\n      <td>-79.188711</td>\n    </tr>\n    <tr>\n      <th>M1G</th>\n      <td>43.770992</td>\n      <td>-79.216917</td>\n    </tr>\n    <tr>\n      <th>M1H</th>\n      <td>43.773136</td>\n      <td>-79.239476</td>\n    </tr>\n  </tbody>\n</table>\n</div>", 
                        "text/plain": "              Latitude  Longitude\nPostal Code                      \nM1B          43.806686 -79.194353\nM1C          43.784535 -79.160497\nM1E          43.763573 -79.188711\nM1G          43.770992 -79.216917\nM1H          43.773136 -79.239476"
                    }, 
                    "output_type": "execute_result"
                }
            ], 
            "source": "gd.head()"
        }, 
        {
            "execution_count": 19, 
            "cell_type": "code", 
            "metadata": {}, 
            "outputs": [], 
            "source": "# The code was removed by Watson Studio for sharing."
        }, 
        {
            "source": "Using the geocoder to obtain the latitude and longitude of the Postal Code", 
            "cell_type": "markdown", 
            "metadata": {}
        }, 
        {
            "execution_count": 20, 
            "cell_type": "code", 
            "metadata": {}, 
            "outputs": [
                {
                    "output_type": "stream", 
                    "name": "stderr", 
                    "text": "/opt/conda/envs/DSX-Python35/lib/python3.5/site-packages/pandas/core/indexing.py:194: SettingWithCopyWarning: \nA value is trying to be set on a copy of a slice from a DataFrame\n\nSee the caveats in the documentation: http://pandas.pydata.org/pandas-docs/stable/indexing.html#indexing-view-versus-copy\n  self._setitem_with_indexer(indexer, value)\n"
                }
            ], 
            "source": "lista['Latitude']=0\nlista['Longitude']=0\nfor i in range(0, len(lista)):\n    ubicacion ='\\''+lista['Borough'].iloc[i]+','+lista['PostCode'].iloc[i]+'\\''\n    try:\n        g=geocoder.here(ubicacion,app_id=ID,app_code=CODE) # I'm using the geocoder HERE\n        #print(i,\"-\",ubicacion,':',g.lat,' ',g.lng)\n        lista['Latitude'].iloc[i] = g.lat\n        lista['Longitude'].iloc[i]= g.lng\n    except: #If the geocoder returns an error, I use gd dataframe to look for the latitude and longitude of the postal code\n        postalcode=lista['PostCode'].iloc[i]\n        lista['Latitude'].iloc[i] = gd['Latitude'].loc[postalcode]\n        lista['Longitude'].iloc[i]= gd['Longitude'].loc[postalcode]\n        #print(i,\"-\",ubicacion,':', lista['Latitude'].iloc[i],' ',lista['Longitude'].iloc[i])"
        }, 
        {
            "execution_count": 21, 
            "cell_type": "code", 
            "metadata": {}, 
            "outputs": [
                {
                    "execution_count": 21, 
                    "metadata": {}, 
                    "data": {
                        "text/html": "<div>\n<style scoped>\n    .dataframe tbody tr th:only-of-type {\n        vertical-align: middle;\n    }\n\n    .dataframe tbody tr th {\n        vertical-align: top;\n    }\n\n    .dataframe thead th {\n        text-align: right;\n    }\n</style>\n<table border=\"1\" class=\"dataframe\">\n  <thead>\n    <tr style=\"text-align: right;\">\n      <th></th>\n      <th>PostCode</th>\n      <th>Borough</th>\n      <th>Neigborhood</th>\n      <th>Latitude</th>\n      <th>Longitude</th>\n    </tr>\n  </thead>\n  <tbody>\n    <tr>\n      <th>0</th>\n      <td>M1B</td>\n      <td>Scarborough</td>\n      <td>Rouge, Malvern</td>\n      <td>43.81153</td>\n      <td>-79.19552</td>\n    </tr>\n    <tr>\n      <th>1</th>\n      <td>M1C</td>\n      <td>Scarborough</td>\n      <td>Port Union, Rouge Hill, Highland Creek</td>\n      <td>43.78573</td>\n      <td>-79.15875</td>\n    </tr>\n    <tr>\n      <th>2</th>\n      <td>M1E</td>\n      <td>Scarborough</td>\n      <td>Guildwood, Morningside, West Hill</td>\n      <td>43.76569</td>\n      <td>-79.17526</td>\n    </tr>\n    <tr>\n      <th>3</th>\n      <td>M1G</td>\n      <td>Scarborough</td>\n      <td>Woburn</td>\n      <td>43.76836</td>\n      <td>-79.21759</td>\n    </tr>\n    <tr>\n      <th>4</th>\n      <td>M1H</td>\n      <td>Scarborough</td>\n      <td>Cedarbrae</td>\n      <td>43.76969</td>\n      <td>-79.23944</td>\n    </tr>\n    <tr>\n      <th>5</th>\n      <td>M1J</td>\n      <td>Scarborough</td>\n      <td>Scarborough Village</td>\n      <td>43.74313</td>\n      <td>-79.23175</td>\n    </tr>\n    <tr>\n      <th>6</th>\n      <td>M1K</td>\n      <td>Scarborough</td>\n      <td>East Birchmount Park, Ionview, Kennedy Park</td>\n      <td>43.72624</td>\n      <td>-79.26367</td>\n    </tr>\n    <tr>\n      <th>7</th>\n      <td>M1L</td>\n      <td>Scarborough</td>\n      <td>Golden Mile, Oakridge, Clairlea</td>\n      <td>43.71313</td>\n      <td>-79.28505</td>\n    </tr>\n    <tr>\n      <th>8</th>\n      <td>M1M</td>\n      <td>Scarborough</td>\n      <td>Cliffcrest, Scarborough Village West, Cliffside</td>\n      <td>43.72358</td>\n      <td>-79.23498</td>\n    </tr>\n    <tr>\n      <th>9</th>\n      <td>M1N</td>\n      <td>Scarborough</td>\n      <td>Cliffside West, Birch Cliff</td>\n      <td>43.69667</td>\n      <td>-79.26016</td>\n    </tr>\n    <tr>\n      <th>10</th>\n      <td>M1P</td>\n      <td>Scarborough</td>\n      <td>Wexford Heights, Dorset Park, Scarborough Town...</td>\n      <td>43.75998</td>\n      <td>-79.26897</td>\n    </tr>\n    <tr>\n      <th>11</th>\n      <td>M1R</td>\n      <td>Scarborough</td>\n      <td>Maryvale, Wexford</td>\n      <td>43.75071</td>\n      <td>-79.30056</td>\n    </tr>\n    <tr>\n      <th>12</th>\n      <td>M1S</td>\n      <td>Scarborough</td>\n      <td>Agincourt</td>\n      <td>43.79394</td>\n      <td>-79.26798</td>\n    </tr>\n    <tr>\n      <th>13</th>\n      <td>M1T</td>\n      <td>Scarborough</td>\n      <td>Sullivan, Clarks Corners, Tam O'Shanter</td>\n      <td>43.78472</td>\n      <td>-79.29905</td>\n    </tr>\n    <tr>\n      <th>14</th>\n      <td>M1V</td>\n      <td>Scarborough</td>\n      <td>Milliken, Agincourt North, L'Amoreaux East, St...</td>\n      <td>43.81781</td>\n      <td>-79.28024</td>\n    </tr>\n    <tr>\n      <th>15</th>\n      <td>M1W</td>\n      <td>Scarborough</td>\n      <td>Steeles West, L'Amoreaux West</td>\n      <td>43.80088</td>\n      <td>-79.32074</td>\n    </tr>\n    <tr>\n      <th>16</th>\n      <td>M1X</td>\n      <td>Scarborough</td>\n      <td>Upper Rouge</td>\n      <td>43.83422</td>\n      <td>-79.21670</td>\n    </tr>\n    <tr>\n      <th>17</th>\n      <td>M2H</td>\n      <td>North York</td>\n      <td>Hillcrest Village</td>\n      <td>43.80285</td>\n      <td>-79.35624</td>\n    </tr>\n    <tr>\n      <th>18</th>\n      <td>M2J</td>\n      <td>North York</td>\n      <td>Fairview, Oriole, Henry Farm</td>\n      <td>43.78088</td>\n      <td>-79.34780</td>\n    </tr>\n    <tr>\n      <th>19</th>\n      <td>M2K</td>\n      <td>North York</td>\n      <td>Bayview Village</td>\n      <td>43.78102</td>\n      <td>-79.38054</td>\n    </tr>\n    <tr>\n      <th>20</th>\n      <td>M2L</td>\n      <td>North York</td>\n      <td>Silver Hills, York Mills</td>\n      <td>43.75719</td>\n      <td>-79.37986</td>\n    </tr>\n    <tr>\n      <th>21</th>\n      <td>M2M</td>\n      <td>North York</td>\n      <td>Willowdale, Newtonbrook</td>\n      <td>43.79148</td>\n      <td>-79.41360</td>\n    </tr>\n    <tr>\n      <th>22</th>\n      <td>M2N</td>\n      <td>North York</td>\n      <td>Willowdale South</td>\n      <td>43.76817</td>\n      <td>-79.40742</td>\n    </tr>\n    <tr>\n      <th>23</th>\n      <td>M2P</td>\n      <td>North York</td>\n      <td>York Mills West</td>\n      <td>43.74786</td>\n      <td>-79.40006</td>\n    </tr>\n    <tr>\n      <th>24</th>\n      <td>M2R</td>\n      <td>North York</td>\n      <td>Willowdale West</td>\n      <td>43.77769</td>\n      <td>-79.44580</td>\n    </tr>\n    <tr>\n      <th>25</th>\n      <td>M3A</td>\n      <td>North York</td>\n      <td>Parkwoods</td>\n      <td>43.75244</td>\n      <td>-79.32927</td>\n    </tr>\n    <tr>\n      <th>26</th>\n      <td>M3B</td>\n      <td>North York</td>\n      <td>Don Mills North</td>\n      <td>43.74920</td>\n      <td>-79.36191</td>\n    </tr>\n    <tr>\n      <th>27</th>\n      <td>M3C</td>\n      <td>North York</td>\n      <td>Don Mills South, Flemingdon Park</td>\n      <td>43.72143</td>\n      <td>-79.34345</td>\n    </tr>\n    <tr>\n      <th>28</th>\n      <td>M3H</td>\n      <td>North York</td>\n      <td>Wilson Heights, Downsview North, Bathurst Manor</td>\n      <td>43.75756</td>\n      <td>-79.44819</td>\n    </tr>\n    <tr>\n      <th>29</th>\n      <td>M3J</td>\n      <td>North York</td>\n      <td>York University, Northwood Park</td>\n      <td>43.76467</td>\n      <td>-79.48718</td>\n    </tr>\n    <tr>\n      <th>30</th>\n      <td>M3K</td>\n      <td>North York</td>\n      <td>Downsview East, CFB Toronto</td>\n      <td>43.73903</td>\n      <td>-79.46732</td>\n    </tr>\n    <tr>\n      <th>31</th>\n      <td>M3L</td>\n      <td>North York</td>\n      <td>Downsview West</td>\n      <td>43.74089</td>\n      <td>-79.50503</td>\n    </tr>\n    <tr>\n      <th>32</th>\n      <td>M3M</td>\n      <td>North York</td>\n      <td>Downsview Central</td>\n      <td>43.73459</td>\n      <td>-79.49315</td>\n    </tr>\n    <tr>\n      <th>33</th>\n      <td>M3N</td>\n      <td>North York</td>\n      <td>Downsview Northwest</td>\n      <td>43.75533</td>\n      <td>-79.51959</td>\n    </tr>\n    <tr>\n      <th>34</th>\n      <td>M4A</td>\n      <td>North York</td>\n      <td>Victoria Village</td>\n      <td>43.73042</td>\n      <td>-79.31332</td>\n    </tr>\n    <tr>\n      <th>35</th>\n      <td>M4B</td>\n      <td>East York</td>\n      <td>Parkview Hill, Woodbine Gardens</td>\n      <td>43.70754</td>\n      <td>-79.31177</td>\n    </tr>\n    <tr>\n      <th>36</th>\n      <td>M4C</td>\n      <td>East York</td>\n      <td>Woodbine Heights</td>\n      <td>43.68966</td>\n      <td>-79.30717</td>\n    </tr>\n    <tr>\n      <th>37</th>\n      <td>M4E</td>\n      <td>East Toronto</td>\n      <td>The Beaches</td>\n      <td>43.67685</td>\n      <td>-79.29522</td>\n    </tr>\n    <tr>\n      <th>38</th>\n      <td>M4G</td>\n      <td>East York</td>\n      <td>Leaside</td>\n      <td>43.70977</td>\n      <td>-79.36390</td>\n    </tr>\n    <tr>\n      <th>39</th>\n      <td>M4H</td>\n      <td>East York</td>\n      <td>Thorncliffe Park</td>\n      <td>43.70127</td>\n      <td>-79.34984</td>\n    </tr>\n    <tr>\n      <th>40</th>\n      <td>M4J</td>\n      <td>East York</td>\n      <td>East Toronto</td>\n      <td>43.68877</td>\n      <td>-79.33417</td>\n    </tr>\n    <tr>\n      <th>41</th>\n      <td>M4K</td>\n      <td>East Toronto</td>\n      <td>The Danforth West, Riverdale</td>\n      <td>43.68326</td>\n      <td>-79.35512</td>\n    </tr>\n    <tr>\n      <th>42</th>\n      <td>M4L</td>\n      <td>East Toronto</td>\n      <td>The Beaches West, India Bazaar</td>\n      <td>43.66797</td>\n      <td>-79.31467</td>\n    </tr>\n    <tr>\n      <th>43</th>\n      <td>M4M</td>\n      <td>East Toronto</td>\n      <td>Studio District</td>\n      <td>43.66277</td>\n      <td>-79.33483</td>\n    </tr>\n    <tr>\n      <th>44</th>\n      <td>M4N</td>\n      <td>Central Toronto</td>\n      <td>Lawrence Park</td>\n      <td>43.60945</td>\n      <td>-79.49273</td>\n    </tr>\n    <tr>\n      <th>45</th>\n      <td>M4P</td>\n      <td>Central Toronto</td>\n      <td>Davisville North</td>\n      <td>43.60945</td>\n      <td>-79.49273</td>\n    </tr>\n    <tr>\n      <th>46</th>\n      <td>M4R</td>\n      <td>Central Toronto</td>\n      <td>North Toronto West</td>\n      <td>43.60945</td>\n      <td>-79.49273</td>\n    </tr>\n    <tr>\n      <th>47</th>\n      <td>M4S</td>\n      <td>Central Toronto</td>\n      <td>Davisville</td>\n      <td>43.60945</td>\n      <td>-79.49273</td>\n    </tr>\n    <tr>\n      <th>48</th>\n      <td>M4T</td>\n      <td>Central Toronto</td>\n      <td>Moore Park, Summerhill East</td>\n      <td>43.60945</td>\n      <td>-79.49273</td>\n    </tr>\n    <tr>\n      <th>49</th>\n      <td>M4V</td>\n      <td>Central Toronto</td>\n      <td>South Hill, Rathnelly, Forest Hill SE, Deer Pa...</td>\n      <td>43.60945</td>\n      <td>-79.49273</td>\n    </tr>\n  </tbody>\n</table>\n</div>", 
                        "text/plain": "   PostCode          Borough  \\\n0       M1B      Scarborough   \n1       M1C      Scarborough   \n2       M1E      Scarborough   \n3       M1G      Scarborough   \n4       M1H      Scarborough   \n5       M1J      Scarborough   \n6       M1K      Scarborough   \n7       M1L      Scarborough   \n8       M1M      Scarborough   \n9       M1N      Scarborough   \n10      M1P      Scarborough   \n11      M1R      Scarborough   \n12      M1S      Scarborough   \n13      M1T      Scarborough   \n14      M1V      Scarborough   \n15      M1W      Scarborough   \n16      M1X      Scarborough   \n17      M2H       North York   \n18      M2J       North York   \n19      M2K       North York   \n20      M2L       North York   \n21      M2M       North York   \n22      M2N       North York   \n23      M2P       North York   \n24      M2R       North York   \n25      M3A       North York   \n26      M3B       North York   \n27      M3C       North York   \n28      M3H       North York   \n29      M3J       North York   \n30      M3K       North York   \n31      M3L       North York   \n32      M3M       North York   \n33      M3N       North York   \n34      M4A       North York   \n35      M4B        East York   \n36      M4C        East York   \n37      M4E     East Toronto   \n38      M4G        East York   \n39      M4H        East York   \n40      M4J        East York   \n41      M4K     East Toronto   \n42      M4L     East Toronto   \n43      M4M     East Toronto   \n44      M4N  Central Toronto   \n45      M4P  Central Toronto   \n46      M4R  Central Toronto   \n47      M4S  Central Toronto   \n48      M4T  Central Toronto   \n49      M4V  Central Toronto   \n\n                                          Neigborhood  Latitude  Longitude  \n0                                      Rouge, Malvern  43.81153  -79.19552  \n1              Port Union, Rouge Hill, Highland Creek  43.78573  -79.15875  \n2                   Guildwood, Morningside, West Hill  43.76569  -79.17526  \n3                                              Woburn  43.76836  -79.21759  \n4                                           Cedarbrae  43.76969  -79.23944  \n5                                 Scarborough Village  43.74313  -79.23175  \n6         East Birchmount Park, Ionview, Kennedy Park  43.72624  -79.26367  \n7                     Golden Mile, Oakridge, Clairlea  43.71313  -79.28505  \n8     Cliffcrest, Scarborough Village West, Cliffside  43.72358  -79.23498  \n9                         Cliffside West, Birch Cliff  43.69667  -79.26016  \n10  Wexford Heights, Dorset Park, Scarborough Town...  43.75998  -79.26897  \n11                                  Maryvale, Wexford  43.75071  -79.30056  \n12                                          Agincourt  43.79394  -79.26798  \n13            Sullivan, Clarks Corners, Tam O'Shanter  43.78472  -79.29905  \n14  Milliken, Agincourt North, L'Amoreaux East, St...  43.81781  -79.28024  \n15                      Steeles West, L'Amoreaux West  43.80088  -79.32074  \n16                                        Upper Rouge  43.83422  -79.21670  \n17                                  Hillcrest Village  43.80285  -79.35624  \n18                       Fairview, Oriole, Henry Farm  43.78088  -79.34780  \n19                                    Bayview Village  43.78102  -79.38054  \n20                           Silver Hills, York Mills  43.75719  -79.37986  \n21                            Willowdale, Newtonbrook  43.79148  -79.41360  \n22                                   Willowdale South  43.76817  -79.40742  \n23                                    York Mills West  43.74786  -79.40006  \n24                                    Willowdale West  43.77769  -79.44580  \n25                                          Parkwoods  43.75244  -79.32927  \n26                                    Don Mills North  43.74920  -79.36191  \n27                   Don Mills South, Flemingdon Park  43.72143  -79.34345  \n28    Wilson Heights, Downsview North, Bathurst Manor  43.75756  -79.44819  \n29                    York University, Northwood Park  43.76467  -79.48718  \n30                        Downsview East, CFB Toronto  43.73903  -79.46732  \n31                                     Downsview West  43.74089  -79.50503  \n32                                  Downsview Central  43.73459  -79.49315  \n33                                Downsview Northwest  43.75533  -79.51959  \n34                                   Victoria Village  43.73042  -79.31332  \n35                    Parkview Hill, Woodbine Gardens  43.70754  -79.31177  \n36                                   Woodbine Heights  43.68966  -79.30717  \n37                                        The Beaches  43.67685  -79.29522  \n38                                            Leaside  43.70977  -79.36390  \n39                                   Thorncliffe Park  43.70127  -79.34984  \n40                                       East Toronto  43.68877  -79.33417  \n41                       The Danforth West, Riverdale  43.68326  -79.35512  \n42                     The Beaches West, India Bazaar  43.66797  -79.31467  \n43                                    Studio District  43.66277  -79.33483  \n44                                      Lawrence Park  43.60945  -79.49273  \n45                                   Davisville North  43.60945  -79.49273  \n46                                 North Toronto West  43.60945  -79.49273  \n47                                         Davisville  43.60945  -79.49273  \n48                        Moore Park, Summerhill East  43.60945  -79.49273  \n49  South Hill, Rathnelly, Forest Hill SE, Deer Pa...  43.60945  -79.49273  "
                    }, 
                    "output_type": "execute_result"
                }
            ], 
            "source": "lista.head(50)"
        }, 
        {
            "execution_count": 22, 
            "cell_type": "code", 
            "metadata": {}, 
            "outputs": [
                {
                    "execution_count": 22, 
                    "metadata": {}, 
                    "data": {
                        "text/plain": "(103, 5)"
                    }, 
                    "output_type": "execute_result"
                }
            ], 
            "source": "lista.shape"
        }, 
        {
            "execution_count": 23, 
            "cell_type": "code", 
            "metadata": {}, 
            "outputs": [
                {
                    "output_type": "stream", 
                    "name": "stdout", 
                    "text": "<class 'pandas.core.frame.DataFrame'>\nInt64Index: 103 entries, 0 to 102\nData columns (total 5 columns):\nPostCode       103 non-null object\nBorough        103 non-null object\nNeigborhood    103 non-null object\nLatitude       103 non-null float64\nLongitude      103 non-null float64\ndtypes: float64(2), object(3)\nmemory usage: 4.8+ KB\n"
                }
            ], 
            "source": "lista.info()"
        }, 
        {
            "execution_count": 24, 
            "cell_type": "code", 
            "metadata": {}, 
            "outputs": [
                {
                    "execution_count": 24, 
                    "metadata": {}, 
                    "data": {
                        "text/html": "<div>\n<style scoped>\n    .dataframe tbody tr th:only-of-type {\n        vertical-align: middle;\n    }\n\n    .dataframe tbody tr th {\n        vertical-align: top;\n    }\n\n    .dataframe thead th {\n        text-align: right;\n    }\n</style>\n<table border=\"1\" class=\"dataframe\">\n  <thead>\n    <tr style=\"text-align: right;\">\n      <th></th>\n      <th>PostCode</th>\n      <th>Borough</th>\n      <th>Neigborhood</th>\n      <th>Latitude</th>\n      <th>Longitude</th>\n    </tr>\n  </thead>\n  <tbody>\n    <tr>\n      <th>50</th>\n      <td>M4W</td>\n      <td>Downtown Toronto</td>\n      <td>Rosedale</td>\n      <td>43.681940</td>\n      <td>-79.378470</td>\n    </tr>\n    <tr>\n      <th>51</th>\n      <td>M4X</td>\n      <td>Downtown Toronto</td>\n      <td>Cabbagetown, St. James Town</td>\n      <td>43.668160</td>\n      <td>-79.366600</td>\n    </tr>\n    <tr>\n      <th>52</th>\n      <td>M4Y</td>\n      <td>Downtown Toronto</td>\n      <td>Church and Wellesley</td>\n      <td>43.666590</td>\n      <td>-79.381300</td>\n    </tr>\n    <tr>\n      <th>53</th>\n      <td>M5A</td>\n      <td>Downtown Toronto</td>\n      <td>Regent Park, Harbourfront</td>\n      <td>43.655120</td>\n      <td>-79.362640</td>\n    </tr>\n    <tr>\n      <th>54</th>\n      <td>M5B</td>\n      <td>Downtown Toronto</td>\n      <td>Ryerson, Garden District</td>\n      <td>43.657360</td>\n      <td>-79.378180</td>\n    </tr>\n    <tr>\n      <th>55</th>\n      <td>M5C</td>\n      <td>Downtown Toronto</td>\n      <td>St. James Town</td>\n      <td>43.651210</td>\n      <td>-79.375480</td>\n    </tr>\n    <tr>\n      <th>56</th>\n      <td>M5E</td>\n      <td>Downtown Toronto</td>\n      <td>Berczy Park</td>\n      <td>43.645160</td>\n      <td>-79.373670</td>\n    </tr>\n    <tr>\n      <th>57</th>\n      <td>M5G</td>\n      <td>Downtown Toronto</td>\n      <td>Central Bay Street</td>\n      <td>43.656090</td>\n      <td>-79.384930</td>\n    </tr>\n    <tr>\n      <th>58</th>\n      <td>M5H</td>\n      <td>Downtown Toronto</td>\n      <td>Adelaide, Richmond, King</td>\n      <td>43.648700</td>\n      <td>-79.385450</td>\n    </tr>\n    <tr>\n      <th>59</th>\n      <td>M5J</td>\n      <td>Downtown Toronto</td>\n      <td>Harbourfront East, Union Station, Toronto Islands</td>\n      <td>43.623470</td>\n      <td>-79.391510</td>\n    </tr>\n    <tr>\n      <th>60</th>\n      <td>M5K</td>\n      <td>Downtown Toronto</td>\n      <td>Toronto Dominion Centre, Design Exchange</td>\n      <td>43.647100</td>\n      <td>-79.381530</td>\n    </tr>\n    <tr>\n      <th>61</th>\n      <td>M5L</td>\n      <td>Downtown Toronto</td>\n      <td>Commerce Court, Victoria Hotel</td>\n      <td>43.648210</td>\n      <td>-79.378790</td>\n    </tr>\n    <tr>\n      <th>62</th>\n      <td>M5M</td>\n      <td>North York</td>\n      <td>Bedford Park, Lawrence Manor East</td>\n      <td>43.735460</td>\n      <td>-79.419160</td>\n    </tr>\n    <tr>\n      <th>63</th>\n      <td>M5N</td>\n      <td>Central Toronto</td>\n      <td>Roselawn</td>\n      <td>43.609450</td>\n      <td>-79.492730</td>\n    </tr>\n    <tr>\n      <th>64</th>\n      <td>M5P</td>\n      <td>Central Toronto</td>\n      <td>Forest Hill West, Forest Hill North</td>\n      <td>43.609450</td>\n      <td>-79.492730</td>\n    </tr>\n    <tr>\n      <th>65</th>\n      <td>M5R</td>\n      <td>Central Toronto</td>\n      <td>North Midtown, The Annex, Yorkville</td>\n      <td>43.609450</td>\n      <td>-79.492730</td>\n    </tr>\n    <tr>\n      <th>66</th>\n      <td>M5S</td>\n      <td>Downtown Toronto</td>\n      <td>Harbord, University of Toronto</td>\n      <td>43.663110</td>\n      <td>-79.401800</td>\n    </tr>\n    <tr>\n      <th>67</th>\n      <td>M5T</td>\n      <td>Downtown Toronto</td>\n      <td>Kensington Market, Grange Park, Chinatown</td>\n      <td>43.653570</td>\n      <td>-79.397250</td>\n    </tr>\n    <tr>\n      <th>68</th>\n      <td>M5V</td>\n      <td>Downtown Toronto</td>\n      <td>King and Spadina, CN Tower, South Niagara, Bat...</td>\n      <td>43.640820</td>\n      <td>-79.399540</td>\n    </tr>\n    <tr>\n      <th>69</th>\n      <td>M5W</td>\n      <td>Downtown Toronto</td>\n      <td>Stn A PO Boxes 25 The Esplanade</td>\n      <td>43.646435</td>\n      <td>-79.374846</td>\n    </tr>\n    <tr>\n      <th>70</th>\n      <td>M5X</td>\n      <td>Downtown Toronto</td>\n      <td>Underground city, First Canadian Place</td>\n      <td>43.648280</td>\n      <td>-79.381460</td>\n    </tr>\n    <tr>\n      <th>71</th>\n      <td>M6A</td>\n      <td>North York</td>\n      <td>Lawrence Heights, Lawrence Manor</td>\n      <td>43.723130</td>\n      <td>-79.451590</td>\n    </tr>\n    <tr>\n      <th>72</th>\n      <td>M6B</td>\n      <td>North York</td>\n      <td>Glencairn</td>\n      <td>43.707990</td>\n      <td>-79.448370</td>\n    </tr>\n    <tr>\n      <th>73</th>\n      <td>M6C</td>\n      <td>York</td>\n      <td>Humewood-Cedarvale</td>\n      <td>43.692110</td>\n      <td>-79.430350</td>\n    </tr>\n    <tr>\n      <th>74</th>\n      <td>M6E</td>\n      <td>York</td>\n      <td>Caledonia-Fairbanks</td>\n      <td>43.688640</td>\n      <td>-79.451020</td>\n    </tr>\n    <tr>\n      <th>75</th>\n      <td>M6G</td>\n      <td>Downtown Toronto</td>\n      <td>Christie</td>\n      <td>43.668780</td>\n      <td>-79.420710</td>\n    </tr>\n    <tr>\n      <th>76</th>\n      <td>M6H</td>\n      <td>West Toronto</td>\n      <td>Dovercourt Village, Dufferin</td>\n      <td>43.665090</td>\n      <td>-79.438700</td>\n    </tr>\n    <tr>\n      <th>77</th>\n      <td>M6J</td>\n      <td>West Toronto</td>\n      <td>Trinity, Little Portugal</td>\n      <td>43.648490</td>\n      <td>-79.417740</td>\n    </tr>\n    <tr>\n      <th>78</th>\n      <td>M6K</td>\n      <td>West Toronto</td>\n      <td>Exhibition Place, Brockton, Parkdale Village</td>\n      <td>43.639410</td>\n      <td>-79.424360</td>\n    </tr>\n    <tr>\n      <th>79</th>\n      <td>M6L</td>\n      <td>North York</td>\n      <td>North Park, Upwood Park, Maple Leaf Park</td>\n      <td>43.713810</td>\n      <td>-79.488310</td>\n    </tr>\n    <tr>\n      <th>80</th>\n      <td>M6M</td>\n      <td>York</td>\n      <td>Silverthorn, Mount Dennis, Keelesdale, Del Ray</td>\n      <td>43.694550</td>\n      <td>-79.484640</td>\n    </tr>\n    <tr>\n      <th>81</th>\n      <td>M6N</td>\n      <td>York</td>\n      <td>The Junction North, Runnymede</td>\n      <td>43.675830</td>\n      <td>-79.482050</td>\n    </tr>\n    <tr>\n      <th>82</th>\n      <td>M6P</td>\n      <td>West Toronto</td>\n      <td>High Park, The Junction South</td>\n      <td>43.659980</td>\n      <td>-79.462870</td>\n    </tr>\n    <tr>\n      <th>83</th>\n      <td>M6R</td>\n      <td>West Toronto</td>\n      <td>Roncesvalles, Parkdale</td>\n      <td>43.647870</td>\n      <td>-79.449760</td>\n    </tr>\n    <tr>\n      <th>84</th>\n      <td>M6S</td>\n      <td>West Toronto</td>\n      <td>Runnymede, Swansea</td>\n      <td>43.649890</td>\n      <td>-79.474930</td>\n    </tr>\n    <tr>\n      <th>85</th>\n      <td>M7A</td>\n      <td>Queen's Park</td>\n      <td>Queen's Park</td>\n      <td>43.660670</td>\n      <td>-79.390880</td>\n    </tr>\n    <tr>\n      <th>86</th>\n      <td>M7R</td>\n      <td>Mississauga</td>\n      <td>Canada Post Gateway Processing Centre</td>\n      <td>43.586910</td>\n      <td>-79.645350</td>\n    </tr>\n    <tr>\n      <th>87</th>\n      <td>M7Y</td>\n      <td>East Toronto</td>\n      <td>Business reply mail Processing Centre969 Eastern</td>\n      <td>43.662744</td>\n      <td>-79.321558</td>\n    </tr>\n    <tr>\n      <th>88</th>\n      <td>M8V</td>\n      <td>Etobicoke</td>\n      <td>Humber Bay Shores, New Toronto, Mimico South</td>\n      <td>43.609870</td>\n      <td>-79.498180</td>\n    </tr>\n    <tr>\n      <th>89</th>\n      <td>M8W</td>\n      <td>Etobicoke</td>\n      <td>Long Branch, Alderwood</td>\n      <td>43.601130</td>\n      <td>-79.538780</td>\n    </tr>\n    <tr>\n      <th>90</th>\n      <td>M8X</td>\n      <td>Etobicoke</td>\n      <td>Old Mill North, Montgomery Road, The Kingsway</td>\n      <td>43.653690</td>\n      <td>-79.511120</td>\n    </tr>\n    <tr>\n      <th>91</th>\n      <td>M8Y</td>\n      <td>Etobicoke</td>\n      <td>Old Mill South, King's Mill Park, Humber Bay, ...</td>\n      <td>43.632770</td>\n      <td>-79.489600</td>\n    </tr>\n    <tr>\n      <th>92</th>\n      <td>M8Z</td>\n      <td>Etobicoke</td>\n      <td>Kingsway Park South West, Mimico NW, The Queen...</td>\n      <td>43.624630</td>\n      <td>-79.526950</td>\n    </tr>\n    <tr>\n      <th>93</th>\n      <td>M9A</td>\n      <td>Etobicoke</td>\n      <td>Islington Avenue</td>\n      <td>43.662240</td>\n      <td>-79.528380</td>\n    </tr>\n    <tr>\n      <th>94</th>\n      <td>M9B</td>\n      <td>Etobicoke</td>\n      <td>Cloverdale, West Deane Park, Princess Gardens,...</td>\n      <td>43.649690</td>\n      <td>-79.553940</td>\n    </tr>\n    <tr>\n      <th>95</th>\n      <td>M9C</td>\n      <td>Etobicoke</td>\n      <td>Old Burnhamthorpe, Markland Wood, Eringate, Bl...</td>\n      <td>43.648570</td>\n      <td>-79.578250</td>\n    </tr>\n    <tr>\n      <th>96</th>\n      <td>M9L</td>\n      <td>North York</td>\n      <td>Humber Summit</td>\n      <td>43.759500</td>\n      <td>-79.556850</td>\n    </tr>\n    <tr>\n      <th>97</th>\n      <td>M9M</td>\n      <td>North York</td>\n      <td>Humberlea, Emery</td>\n      <td>43.733760</td>\n      <td>-79.537520</td>\n    </tr>\n    <tr>\n      <th>98</th>\n      <td>M9N</td>\n      <td>York</td>\n      <td>Weston</td>\n      <td>43.704860</td>\n      <td>-79.517550</td>\n    </tr>\n    <tr>\n      <th>99</th>\n      <td>M9P</td>\n      <td>Etobicoke</td>\n      <td>Westmount</td>\n      <td>43.696300</td>\n      <td>-79.530400</td>\n    </tr>\n    <tr>\n      <th>100</th>\n      <td>M9R</td>\n      <td>Etobicoke</td>\n      <td>Richview Gardens, Kingsview Village, St. Phill...</td>\n      <td>43.686920</td>\n      <td>-79.557280</td>\n    </tr>\n    <tr>\n      <th>101</th>\n      <td>M9V</td>\n      <td>Etobicoke</td>\n      <td>Beaumond Heights, Humbergate, Jamestown, Mount...</td>\n      <td>43.743200</td>\n      <td>-79.584700</td>\n    </tr>\n    <tr>\n      <th>102</th>\n      <td>M9W</td>\n      <td>Etobicoke</td>\n      <td>Northwest</td>\n      <td>43.711740</td>\n      <td>-79.579180</td>\n    </tr>\n  </tbody>\n</table>\n</div>", 
                        "text/plain": "    PostCode           Borough  \\\n50       M4W  Downtown Toronto   \n51       M4X  Downtown Toronto   \n52       M4Y  Downtown Toronto   \n53       M5A  Downtown Toronto   \n54       M5B  Downtown Toronto   \n55       M5C  Downtown Toronto   \n56       M5E  Downtown Toronto   \n57       M5G  Downtown Toronto   \n58       M5H  Downtown Toronto   \n59       M5J  Downtown Toronto   \n60       M5K  Downtown Toronto   \n61       M5L  Downtown Toronto   \n62       M5M        North York   \n63       M5N   Central Toronto   \n64       M5P   Central Toronto   \n65       M5R   Central Toronto   \n66       M5S  Downtown Toronto   \n67       M5T  Downtown Toronto   \n68       M5V  Downtown Toronto   \n69       M5W  Downtown Toronto   \n70       M5X  Downtown Toronto   \n71       M6A        North York   \n72       M6B        North York   \n73       M6C              York   \n74       M6E              York   \n75       M6G  Downtown Toronto   \n76       M6H      West Toronto   \n77       M6J      West Toronto   \n78       M6K      West Toronto   \n79       M6L        North York   \n80       M6M              York   \n81       M6N              York   \n82       M6P      West Toronto   \n83       M6R      West Toronto   \n84       M6S      West Toronto   \n85       M7A      Queen's Park   \n86       M7R       Mississauga   \n87       M7Y      East Toronto   \n88       M8V         Etobicoke   \n89       M8W         Etobicoke   \n90       M8X         Etobicoke   \n91       M8Y         Etobicoke   \n92       M8Z         Etobicoke   \n93       M9A         Etobicoke   \n94       M9B         Etobicoke   \n95       M9C         Etobicoke   \n96       M9L        North York   \n97       M9M        North York   \n98       M9N              York   \n99       M9P         Etobicoke   \n100      M9R         Etobicoke   \n101      M9V         Etobicoke   \n102      M9W         Etobicoke   \n\n                                           Neigborhood   Latitude  Longitude  \n50                                            Rosedale  43.681940 -79.378470  \n51                         Cabbagetown, St. James Town  43.668160 -79.366600  \n52                                Church and Wellesley  43.666590 -79.381300  \n53                           Regent Park, Harbourfront  43.655120 -79.362640  \n54                            Ryerson, Garden District  43.657360 -79.378180  \n55                                      St. James Town  43.651210 -79.375480  \n56                                         Berczy Park  43.645160 -79.373670  \n57                                  Central Bay Street  43.656090 -79.384930  \n58                            Adelaide, Richmond, King  43.648700 -79.385450  \n59   Harbourfront East, Union Station, Toronto Islands  43.623470 -79.391510  \n60            Toronto Dominion Centre, Design Exchange  43.647100 -79.381530  \n61                      Commerce Court, Victoria Hotel  43.648210 -79.378790  \n62                   Bedford Park, Lawrence Manor East  43.735460 -79.419160  \n63                                            Roselawn  43.609450 -79.492730  \n64                 Forest Hill West, Forest Hill North  43.609450 -79.492730  \n65                 North Midtown, The Annex, Yorkville  43.609450 -79.492730  \n66                      Harbord, University of Toronto  43.663110 -79.401800  \n67           Kensington Market, Grange Park, Chinatown  43.653570 -79.397250  \n68   King and Spadina, CN Tower, South Niagara, Bat...  43.640820 -79.399540  \n69                     Stn A PO Boxes 25 The Esplanade  43.646435 -79.374846  \n70              Underground city, First Canadian Place  43.648280 -79.381460  \n71                    Lawrence Heights, Lawrence Manor  43.723130 -79.451590  \n72                                           Glencairn  43.707990 -79.448370  \n73                                  Humewood-Cedarvale  43.692110 -79.430350  \n74                                 Caledonia-Fairbanks  43.688640 -79.451020  \n75                                            Christie  43.668780 -79.420710  \n76                        Dovercourt Village, Dufferin  43.665090 -79.438700  \n77                            Trinity, Little Portugal  43.648490 -79.417740  \n78        Exhibition Place, Brockton, Parkdale Village  43.639410 -79.424360  \n79            North Park, Upwood Park, Maple Leaf Park  43.713810 -79.488310  \n80      Silverthorn, Mount Dennis, Keelesdale, Del Ray  43.694550 -79.484640  \n81                       The Junction North, Runnymede  43.675830 -79.482050  \n82                       High Park, The Junction South  43.659980 -79.462870  \n83                              Roncesvalles, Parkdale  43.647870 -79.449760  \n84                                  Runnymede, Swansea  43.649890 -79.474930  \n85                                        Queen's Park  43.660670 -79.390880  \n86               Canada Post Gateway Processing Centre  43.586910 -79.645350  \n87    Business reply mail Processing Centre969 Eastern  43.662744 -79.321558  \n88        Humber Bay Shores, New Toronto, Mimico South  43.609870 -79.498180  \n89                              Long Branch, Alderwood  43.601130 -79.538780  \n90       Old Mill North, Montgomery Road, The Kingsway  43.653690 -79.511120  \n91   Old Mill South, King's Mill Park, Humber Bay, ...  43.632770 -79.489600  \n92   Kingsway Park South West, Mimico NW, The Queen...  43.624630 -79.526950  \n93                                    Islington Avenue  43.662240 -79.528380  \n94   Cloverdale, West Deane Park, Princess Gardens,...  43.649690 -79.553940  \n95   Old Burnhamthorpe, Markland Wood, Eringate, Bl...  43.648570 -79.578250  \n96                                       Humber Summit  43.759500 -79.556850  \n97                                    Humberlea, Emery  43.733760 -79.537520  \n98                                              Weston  43.704860 -79.517550  \n99                                           Westmount  43.696300 -79.530400  \n100  Richview Gardens, Kingsview Village, St. Phill...  43.686920 -79.557280  \n101  Beaumond Heights, Humbergate, Jamestown, Mount...  43.743200 -79.584700  \n102                                          Northwest  43.711740 -79.579180  "
                    }, 
                    "output_type": "execute_result"
                }
            ], 
            "source": "lista.tail(53)"
        }
    ], 
    "metadata": {
        "kernelspec": {
            "display_name": "Python 3.5", 
            "name": "python3", 
            "language": "python"
        }, 
        "language_info": {
            "mimetype": "text/x-python", 
            "nbconvert_exporter": "python", 
            "version": "3.5.5", 
            "name": "python", 
            "file_extension": ".py", 
            "pygments_lexer": "ipython3", 
            "codemirror_mode": {
                "version": 3, 
                "name": "ipython"
            }
        }
    }, 
    "nbformat": 4
}