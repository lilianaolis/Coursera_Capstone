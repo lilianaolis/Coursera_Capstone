{
    "nbformat_minor": 1, 
    "cells": [
        {
            "source": "# Peer-graded Assignment: Segmenting and Clustering Neighborhoods in Toronto", 
            "cell_type": "markdown", 
            "metadata": {
                "collapsed": true
            }
        }, 
        {
            "source": "Part 2 of the assigment", 
            "cell_type": "markdown", 
            "metadata": {}
        }, 
        {
            "source": "#### Importing Libraries", 
            "cell_type": "markdown", 
            "metadata": {}
        }, 
        {
            "execution_count": 1, 
            "cell_type": "code", 
            "metadata": {}, 
            "outputs": [], 
            "source": "import numpy as np #Numpy Library\nimport pandas as pd #Panda Library"
        }, 
        {
            "execution_count": 2, 
            "cell_type": "code", 
            "metadata": {}, 
            "outputs": [], 
            "source": "from bs4 import BeautifulSoup #BeautifulSoup to read the html"
        }, 
        {
            "execution_count": 3, 
            "cell_type": "code", 
            "metadata": {}, 
            "outputs": [], 
            "source": "import requests #to request the page"
        }, 
        {
            "execution_count": 4, 
            "cell_type": "code", 
            "metadata": {}, 
            "outputs": [
                {
                    "output_type": "stream", 
                    "name": "stdout", 
                    "text": "Fetching package metadata .............\nSolving package specifications: .\n\n# All requested packages already installed.\n# packages in environment at /opt/conda/envs/DSX-Python35:\n#\nfolium                    0.5.0                      py_0    conda-forge\n"
                }
            ], 
            "source": "!conda install -c conda-forge folium=0.5.0 --yes\nimport folium # plotting library"
        }, 
        {
            "execution_count": null, 
            "cell_type": "code", 
            "metadata": {}, 
            "outputs": [
                {
                    "output_type": "stream", 
                    "name": "stdout", 
                    "text": "Fetching package metadata .............\nSolving package specifications: "
                }
            ], 
            "source": "!conda install -c conda-forge geocoder\nimport geocoder"
        }, 
        {
            "source": "#### PART 1 of the assigment", 
            "cell_type": "markdown", 
            "metadata": {}
        }, 
        {
            "execution_count": null, 
            "cell_type": "code", 
            "metadata": {}, 
            "outputs": [], 
            "source": "source=requests.get('https://en.wikipedia.org/wiki/List_of_postal_codes_of_Canada:_M').text"
        }, 
        {
            "execution_count": null, 
            "cell_type": "code", 
            "metadata": {}, 
            "outputs": [], 
            "source": "soup = BeautifulSoup(source,'lxml')"
        }, 
        {
            "execution_count": null, 
            "cell_type": "code", 
            "metadata": {}, 
            "outputs": [], 
            "source": "tabla = soup.find('table', attrs={'class':'wikitable sortable'})\n#print(tabla.prettify())  #prettify to display in a more friendly way"
        }, 
        {
            "execution_count": null, 
            "cell_type": "code", 
            "metadata": {}, 
            "outputs": [], 
            "source": "filas = tabla.find_all('tr')\nl=[]\nfor tr in filas:\n    td = tr.find_all('td')\n    fila = [tr.text for tr in td]\n    l.append(fila)\nlista = pd.DataFrame(l, columns=['PostCode','Borough','Neigborhood'])"
        }, 
        {
            "execution_count": null, 
            "cell_type": "code", 
            "metadata": {}, 
            "outputs": [], 
            "source": "lista = lista.replace('\\n','', regex=True)"
        }, 
        {
            "execution_count": null, 
            "cell_type": "code", 
            "metadata": {}, 
            "outputs": [], 
            "source": "lista.drop(lista.index[0],inplace=True)"
        }, 
        {
            "execution_count": null, 
            "cell_type": "code", 
            "metadata": {}, 
            "outputs": [], 
            "source": "lista = lista[lista.Borough != 'Not assigned']"
        }, 
        {
            "execution_count": null, 
            "cell_type": "code", 
            "metadata": {}, 
            "outputs": [], 
            "source": "lista['Neigborhood']= np.where(lista['Neigborhood']=='Not assigned',lista['Borough'],lista['Neigborhood'])"
        }, 
        {
            "execution_count": null, 
            "cell_type": "code", 
            "metadata": {}, 
            "outputs": [], 
            "source": "lista.sort_values('PostCode',inplace=True)"
        }, 
        {
            "execution_count": null, 
            "cell_type": "code", 
            "metadata": {}, 
            "outputs": [], 
            "source": "concatenar = {\n    'Neigborhood': lambda x: ', '.join(x)\n}"
        }, 
        {
            "execution_count": null, 
            "cell_type": "code", 
            "metadata": {}, 
            "outputs": [], 
            "source": "lista = lista.groupby(['PostCode','Borough'], as_index=False, sort=False).agg(concatenar)"
        }, 
        {
            "source": "## Part 2 of the assigment", 
            "cell_type": "markdown", 
            "metadata": {}
        }, 
        {
            "source": "Reading the csv file with the geospatial data for the postal codes that the geocoder returns error", 
            "cell_type": "markdown", 
            "metadata": {}
        }, 
        {
            "execution_count": null, 
            "cell_type": "code", 
            "metadata": {}, 
            "outputs": [], 
            "source": "gd=pd.read_csv('https://cocl.us/Geospatial_data',index_col=0)\nprint('Data loaded')"
        }, 
        {
            "execution_count": null, 
            "cell_type": "code", 
            "metadata": {}, 
            "outputs": [], 
            "source": "gd.head()"
        }, 
        {
            "execution_count": null, 
            "cell_type": "code", 
            "metadata": {}, 
            "outputs": [], 
            "source": "# The code was removed by Watson Studio for sharing."
        }, 
        {
            "source": "Using the geocoder to obtain the latitude and longitude of the Postal Code", 
            "cell_type": "markdown", 
            "metadata": {}
        }, 
        {
            "execution_count": null, 
            "cell_type": "code", 
            "metadata": {}, 
            "outputs": [], 
            "source": "lista['Latitude']=0\nlista['Longitude']=0\nfor i in range(0, len(lista)):\n    ubicacion ='\\''+lista['Borough'].iloc[i]+','+lista['PostCode'].iloc[i]+'\\''\n    try:\n        g=geocoder.here(ubicacion,app_id=ID,app_code=CODE) # I'm using the geocoder HERE\n        #print(i,\"-\",ubicacion,':',g.lat,' ',g.lng)\n        lista['Latitude'].iloc[i] = g.lat\n        lista['Longitude'].iloc[i]= g.lng\n    except: #If the geocoder returns an error, I use gd dataframe to look for the latitude and longitude of the postal code\n        postalcode=lista['PostCode'].iloc[i]\n        lista['Latitude'].iloc[i] = gd['Latitude'].loc[postalcode]\n        lista['Longitude'].iloc[i]= gd['Longitude'].loc[postalcode]\n        #print(i,\"-\",ubicacion,':', lista['Latitude'].iloc[i],' ',lista['Longitude'].iloc[i])"
        }, 
        {
            "execution_count": null, 
            "cell_type": "code", 
            "metadata": {}, 
            "outputs": [], 
            "source": "lista.head(50)"
        }, 
        {
            "execution_count": null, 
            "cell_type": "code", 
            "metadata": {}, 
            "outputs": [], 
            "source": "lista.shape"
        }, 
        {
            "execution_count": null, 
            "cell_type": "code", 
            "metadata": {}, 
            "outputs": [], 
            "source": "lista.info()"
        }, 
        {
            "execution_count": null, 
            "cell_type": "code", 
            "metadata": {}, 
            "outputs": [], 
            "source": "lista.tail(53)"
        }
    ], 
    "metadata": {
        "kernelspec": {
            "display_name": "Python 3.5", 
            "name": "python3", 
            "language": "python"
        }, 
        "language_info": {
            "mimetype": "text/x-python", 
            "nbconvert_exporter": "python", 
            "version": "3.5.5", 
            "name": "python", 
            "file_extension": ".py", 
            "pygments_lexer": "ipython3", 
            "codemirror_mode": {
                "version": 3, 
                "name": "ipython"
            }
        }
    }, 
    "nbformat": 4
}